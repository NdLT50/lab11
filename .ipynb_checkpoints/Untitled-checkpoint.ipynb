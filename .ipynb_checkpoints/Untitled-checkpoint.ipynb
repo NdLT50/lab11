{
 "cells": [
  {
   "cell_type": "code",
   "execution_count": 2,
   "id": "1a3d55e9",
   "metadata": {},
   "outputs": [],
   "source": [
    "import psycopg2\n",
    "conn = psycopg2.connect(\n",
    "    dbname=\"lab11\", user=\"postgres\", password=\"#Kazakhstan2050\", host=\"localhost\", port=\"5432\"\n",
    ")\n",
    "cursor = conn.cursor()\n",
    "cursor.execute(\"\"\"\n",
    "CREATE TABLE IF NOT EXISTS phonebook (\n",
    "    id SERIAL PRIMARY KEY,\n",
    "    name TEXT NOT NULL,\n",
    "    phone TEXT NOT NULL UNIQUE\n",
    ");\n",
    "\"\"\")\n",
    "conn.commit()\n",
    "cursor.close()\n",
    "conn.close()\n"
   ]
  },
  {
   "cell_type": "code",
   "execution_count": 3,
   "id": "12123681",
   "metadata": {},
   "outputs": [
    {
     "ename": "FileNotFoundError",
     "evalue": "[Errno 2] No such file or directory: 'phonebook_data.csv'",
     "output_type": "error",
     "traceback": [
      "\u001b[1;31m---------------------------------------------------------------------------\u001b[0m",
      "\u001b[1;31mFileNotFoundError\u001b[0m                         Traceback (most recent call last)",
      "Cell \u001b[1;32mIn[3], line 20\u001b[0m\n\u001b[0;32m     18\u001b[0m     cursor\u001b[38;5;241m.\u001b[39mclose()\n\u001b[0;32m     19\u001b[0m     conn\u001b[38;5;241m.\u001b[39mclose()\n\u001b[1;32m---> 20\u001b[0m insert_data_from_csv(\u001b[38;5;124m'\u001b[39m\u001b[38;5;124mphonebook_data.csv\u001b[39m\u001b[38;5;124m'\u001b[39m)\n",
      "Cell \u001b[1;32mIn[3], line 9\u001b[0m, in \u001b[0;36minsert_data_from_csv\u001b[1;34m(file_path)\u001b[0m\n\u001b[0;32m      4\u001b[0m conn \u001b[38;5;241m=\u001b[39m psycopg2\u001b[38;5;241m.\u001b[39mconnect(\n\u001b[0;32m      5\u001b[0m     dbname\u001b[38;5;241m=\u001b[39m\u001b[38;5;124m\"\u001b[39m\u001b[38;5;124mlab11\u001b[39m\u001b[38;5;124m\"\u001b[39m, user\u001b[38;5;241m=\u001b[39m\u001b[38;5;124m\"\u001b[39m\u001b[38;5;124mpostgres\u001b[39m\u001b[38;5;124m\"\u001b[39m, password\u001b[38;5;241m=\u001b[39m\u001b[38;5;124m\"\u001b[39m\u001b[38;5;124m#Kazakhstan2050\u001b[39m\u001b[38;5;124m\"\u001b[39m, host\u001b[38;5;241m=\u001b[39m\u001b[38;5;124m\"\u001b[39m\u001b[38;5;124mlocalhost\u001b[39m\u001b[38;5;124m\"\u001b[39m, port\u001b[38;5;241m=\u001b[39m\u001b[38;5;124m\"\u001b[39m\u001b[38;5;124m5432\u001b[39m\u001b[38;5;124m\"\u001b[39m\n\u001b[0;32m      6\u001b[0m )\n\u001b[0;32m      7\u001b[0m cursor \u001b[38;5;241m=\u001b[39m conn\u001b[38;5;241m.\u001b[39mcursor()\n\u001b[1;32m----> 9\u001b[0m \u001b[38;5;28;01mwith\u001b[39;00m \u001b[38;5;28mopen\u001b[39m(file_path, mode\u001b[38;5;241m=\u001b[39m\u001b[38;5;124m'\u001b[39m\u001b[38;5;124mr\u001b[39m\u001b[38;5;124m'\u001b[39m) \u001b[38;5;28;01mas\u001b[39;00m file:\n\u001b[0;32m     10\u001b[0m     csv_reader \u001b[38;5;241m=\u001b[39m csv\u001b[38;5;241m.\u001b[39mreader(file)\n\u001b[0;32m     11\u001b[0m     \u001b[38;5;28mnext\u001b[39m(csv_reader)\n",
      "File \u001b[1;32m~\\anaconda3\\Lib\\site-packages\\IPython\\core\\interactiveshell.py:284\u001b[0m, in \u001b[0;36m_modified_open\u001b[1;34m(file, *args, **kwargs)\u001b[0m\n\u001b[0;32m    277\u001b[0m \u001b[38;5;28;01mif\u001b[39;00m file \u001b[38;5;129;01min\u001b[39;00m {\u001b[38;5;241m0\u001b[39m, \u001b[38;5;241m1\u001b[39m, \u001b[38;5;241m2\u001b[39m}:\n\u001b[0;32m    278\u001b[0m     \u001b[38;5;28;01mraise\u001b[39;00m \u001b[38;5;167;01mValueError\u001b[39;00m(\n\u001b[0;32m    279\u001b[0m         \u001b[38;5;124mf\u001b[39m\u001b[38;5;124m\"\u001b[39m\u001b[38;5;124mIPython won\u001b[39m\u001b[38;5;124m'\u001b[39m\u001b[38;5;124mt let you open fd=\u001b[39m\u001b[38;5;132;01m{\u001b[39;00mfile\u001b[38;5;132;01m}\u001b[39;00m\u001b[38;5;124m by default \u001b[39m\u001b[38;5;124m\"\u001b[39m\n\u001b[0;32m    280\u001b[0m         \u001b[38;5;124m\"\u001b[39m\u001b[38;5;124mas it is likely to crash IPython. If you know what you are doing, \u001b[39m\u001b[38;5;124m\"\u001b[39m\n\u001b[0;32m    281\u001b[0m         \u001b[38;5;124m\"\u001b[39m\u001b[38;5;124myou can use builtins\u001b[39m\u001b[38;5;124m'\u001b[39m\u001b[38;5;124m open.\u001b[39m\u001b[38;5;124m\"\u001b[39m\n\u001b[0;32m    282\u001b[0m     )\n\u001b[1;32m--> 284\u001b[0m \u001b[38;5;28;01mreturn\u001b[39;00m io_open(file, \u001b[38;5;241m*\u001b[39margs, \u001b[38;5;241m*\u001b[39m\u001b[38;5;241m*\u001b[39mkwargs)\n",
      "\u001b[1;31mFileNotFoundError\u001b[0m: [Errno 2] No such file or directory: 'phonebook_data.csv'"
     ]
    }
   ],
   "source": [
    "import psycopg2\n",
    "import csv\n",
    "def insert_data_from_csv(file_path):\n",
    "    conn = psycopg2.connect(\n",
    "        dbname=\"lab11\", user=\"postgres\", password=\"#Kazakhstan2050\", host=\"localhost\", port=\"5432\"\n",
    "    )\n",
    "    cursor = conn.cursor()\n",
    "\n",
    "    with open(file_path, mode='r') as file:\n",
    "        csv_reader = csv.reader(file)\n",
    "        next(csv_reader)\n",
    "        for row in csv_reader:\n",
    "            cursor.execute(\n",
    "                \"INSERT INTO phonebook (name, phone) VALUES (%s, %s) ON CONFLICT (phone) DO NOTHING;\",\n",
    "                (row[0], row[1])\n",
    "            )\n",
    "    conn.commit()\n",
    "    cursor.close()\n",
    "    conn.close()\n",
    "insert_data_from_csv('phonebook_data.csv')\n"
   ]
  },
  {
   "cell_type": "code",
   "execution_count": 8,
   "id": "d8c5dd9a",
   "metadata": {},
   "outputs": [
    {
     "name": "stdout",
     "output_type": "stream",
     "text": [
      "Enter name: Oren\n",
      "Enter phone: 5\n"
     ]
    }
   ],
   "source": [
    "import psycopg2\n",
    "def insert_data_from_console():\n",
    "    name = input(\"Enter name: \")\n",
    "    phone = input(\"Enter phone: \")\n",
    "    \n",
    "    conn = psycopg2.connect(\n",
    "        dbname=\"lab11\", user=\"postgres\", password=\"#Kazakhstan2050\", host=\"localhost\", port=\"5432\"\n",
    "    )\n",
    "    cursor = conn.cursor()\n",
    "    \n",
    "    cursor.execute(\n",
    "        \"INSERT INTO phonebook (name, phone) VALUES (%s, %s) ON CONFLICT (phone) DO NOTHING;\",\n",
    "        (name, phone)\n",
    "    )\n",
    "    \n",
    "    conn.commit()\n",
    "    cursor.close()\n",
    "    conn.close()\n",
    "insert_data_from_console()\n"
   ]
  },
  {
   "cell_type": "code",
   "execution_count": 9,
   "id": "3dd393f1",
   "metadata": {},
   "outputs": [],
   "source": [
    "import psycopg2\n",
    "def update_user_data(identifier, new_name=None, new_phone=None):\n",
    "    conn = psycopg2.connect(\n",
    "        dbname=\"lab11\", user=\"postgres\", password=\"#Kazakhstan2050\", host=\"localhost\", port=\"5432\"\n",
    "    )\n",
    "    cursor = conn.cursor()\n",
    "\n",
    "    if new_name:\n",
    "        cursor.execute(\"UPDATE phonebook SET name = %s WHERE phone = %s;\", (new_name, identifier))\n",
    "    if new_phone:\n",
    "        cursor.execute(\"UPDATE phonebook SET phone = %s WHERE name = %s;\", (new_phone, identifier))\n",
    "\n",
    "    conn.commit()\n",
    "    cursor.close()\n",
    "    conn.close()\n",
    "update_user_data('5', new_name=\"Akezhan\")\n",
    "#update_user_data('Updated Name', new_phone=\"\")\n"
   ]
  },
  {
   "cell_type": "code",
   "execution_count": 6,
   "id": "b8fbc84b",
   "metadata": {},
   "outputs": [
    {
     "ename": "TypeError",
     "evalue": "not all arguments converted during string formatting",
     "output_type": "error",
     "traceback": [
      "\u001b[1;31m---------------------------------------------------------------------------\u001b[0m",
      "\u001b[1;31mTypeError\u001b[0m                                 Traceback (most recent call last)",
      "Cell \u001b[1;32mIn[6], line 24\u001b[0m\n\u001b[0;32m     21\u001b[0m     cursor\u001b[38;5;241m.\u001b[39mclose()\n\u001b[0;32m     22\u001b[0m     conn\u001b[38;5;241m.\u001b[39mclose()\n\u001b[1;32m---> 24\u001b[0m query_data(filter_name\u001b[38;5;241m=\u001b[39m\u001b[38;5;124m\"\u001b[39m\u001b[38;5;124mAlice\u001b[39m\u001b[38;5;124m\"\u001b[39m)\n\u001b[0;32m     25\u001b[0m query_data(filter_phone\u001b[38;5;241m=\u001b[39m\u001b[38;5;124m\"\u001b[39m\u001b[38;5;124m1234567890\u001b[39m\u001b[38;5;124m\"\u001b[39m)\n",
      "Cell \u001b[1;32mIn[6], line 15\u001b[0m, in \u001b[0;36mquery_data\u001b[1;34m(filter_name, filter_phone)\u001b[0m\n\u001b[0;32m     12\u001b[0m \u001b[38;5;28;01mif\u001b[39;00m filter_phone:\n\u001b[0;32m     13\u001b[0m     query \u001b[38;5;241m+\u001b[39m\u001b[38;5;241m=\u001b[39m \u001b[38;5;124m\"\u001b[39m\u001b[38;5;124m AND phone ILIKE \u001b[39m\u001b[38;5;132;01m%s\u001b[39;00m\u001b[38;5;124m\"\u001b[39m\n\u001b[1;32m---> 15\u001b[0m cursor\u001b[38;5;241m.\u001b[39mexecute(query, (\u001b[38;5;124mf\u001b[39m\u001b[38;5;124m\"\u001b[39m\u001b[38;5;124m%\u001b[39m\u001b[38;5;132;01m{\u001b[39;00mfilter_name\u001b[38;5;132;01m}\u001b[39;00m\u001b[38;5;124m%\u001b[39m\u001b[38;5;124m\"\u001b[39m, \u001b[38;5;124mf\u001b[39m\u001b[38;5;124m\"\u001b[39m\u001b[38;5;124m%\u001b[39m\u001b[38;5;132;01m{\u001b[39;00mfilter_phone\u001b[38;5;132;01m}\u001b[39;00m\u001b[38;5;124m%\u001b[39m\u001b[38;5;124m\"\u001b[39m))\n\u001b[0;32m     17\u001b[0m rows \u001b[38;5;241m=\u001b[39m cursor\u001b[38;5;241m.\u001b[39mfetchall()\n\u001b[0;32m     18\u001b[0m \u001b[38;5;28;01mfor\u001b[39;00m row \u001b[38;5;129;01min\u001b[39;00m rows:\n",
      "\u001b[1;31mTypeError\u001b[0m: not all arguments converted during string formatting"
     ]
    }
   ],
   "source": [
    "import psycopg2\n",
    "def query_data(filter_name=None, filter_phone=None):\n",
    "    conn = psycopg2.connect(\n",
    "        dbname=\"lab11\", user=\"postgres\", password=\"#Kazakhstan2050\", host=\"localhost\", port=\"5432\"\n",
    "    )\n",
    "    cursor = conn.cursor()\n",
    "\n",
    "    query = \"SELECT * FROM phonebook WHERE 1=1\"\n",
    "    \n",
    "    if filter_name:\n",
    "        query += \" AND name ILIKE %s\"\n",
    "    if filter_phone:\n",
    "        query += \" AND phone ILIKE %s\"\n",
    "    \n",
    "    cursor.execute(query, (f\"%{filter_name}%\", f\"%{filter_phone}%\"))\n",
    "    \n",
    "    rows = cursor.fetchall()\n",
    "    for row in rows:\n",
    "        print(row)\n",
    "\n",
    "    cursor.close()\n",
    "    conn.close()\n",
    "\n",
    "query_data(filter_name=\"Alice\")\n",
    "query_data(filter_phone=\"1234567890\")\n"
   ]
  },
  {
   "cell_type": "code",
   "execution_count": 7,
   "id": "daa264c7",
   "metadata": {},
   "outputs": [],
   "source": [
    "import psycopg2\n",
    "def delete_data(identifier):\n",
    "    conn = psycopg2.connect(\n",
    "        dbname=\"lab11\", user=\"postgres\", password=\"#Kazakhstan2050\", host=\"localhost\", port=\"5432\"\n",
    "    )\n",
    "    cursor = conn.cursor()\n",
    "\n",
    "    cursor.execute(\"DELETE FROM phonebook WHERE name = %s OR phone = %s;\", (identifier, identifier))\n",
    "    conn.commit()\n",
    "\n",
    "    cursor.close()\n",
    "    conn.close()\n",
    "\n",
    "delete_data('Alice')\n",
    "delete_data('1234567890')\n"
   ]
  },
  {
   "cell_type": "code",
   "execution_count": null,
   "id": "117e0e72",
   "metadata": {},
   "outputs": [],
   "source": []
  }
 ],
 "metadata": {
  "kernelspec": {
   "display_name": "Python 3 (ipykernel)",
   "language": "python",
   "name": "python3"
  },
  "language_info": {
   "codemirror_mode": {
    "name": "ipython",
    "version": 3
   },
   "file_extension": ".py",
   "mimetype": "text/x-python",
   "name": "python",
   "nbconvert_exporter": "python",
   "pygments_lexer": "ipython3",
   "version": "3.11.4"
  }
 },
 "nbformat": 4,
 "nbformat_minor": 5
}
